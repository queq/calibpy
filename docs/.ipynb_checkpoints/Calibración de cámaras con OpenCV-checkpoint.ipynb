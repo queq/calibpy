{
 "cells": [
  {
   "cell_type": "markdown",
   "metadata": {},
   "source": [
    "# Introducción"
   ]
  },
  {
   "cell_type": "markdown",
   "metadata": {},
   "source": [
    "Todo sistema en algún grado inteligente depende absolutamente de la realimentación que recibe de su entorno. Es decir, el funcionamiento correcto o incorrecto de los sensores que posea es crucial para su eficaz funcionamiento. Luego, es preciso calibrar aquellos sensores para conocer su comportamiento bajo distintas condiciones ambientales, y así obrar adecuadamente a la hora de diseñar el sistema que realizamos. Desafortunadamente, en el caso de los sensores ópticos (cámaras) ocurre que es complejo determinar de forma directa las variables de interés en la calibración (no son usualmente suministradas por el fabricante, adicionalmente, medirlas experimentalmente no es una tarea fácil). Sin embargo, usando modelos geométricos y matemáticos existentes, es posible obtener los parámetros de calibración de una cámara de forma indirecta. Este documento pretende ilustrar el modelo más sencillo que se concibe de una cámara, y luego demostrar el proceso de calbración usando la librería [OpenCV](http://opencv.org) (cuyas funciones se basan en el modelo mencionado)."
   ]
  },
  {
   "cell_type": "markdown",
   "metadata": {},
   "source": [
    "## El modelo *pinhole* <cite data-cite=\"bradski2008learning\"></cite>"
   ]
  },
  {
   "cell_type": "markdown",
   "metadata": {
    "collapsed": true
   },
   "source": [
    "Este modelo de cámara consiste en un plano con una apertura puntual en su centro, sobre la que sólo puede pasar un rayo de luz. De esta manera, sólo un rayo que parta de algún punto específico del espacio puede entrar. Paralelo a este plano, existe otro plano, que es el que capturará los rayos proyectados, formándose así una imagen."
   ]
  },
  {
   "cell_type": "markdown",
   "metadata": {},
   "source": [
    "![Modelo pinhole: los rayos proyectados a través de la apertura forman una imagen.](img/1-fig1.png \"Modelo pinhole\")"
   ]
  },
  {
   "cell_type": "markdown",
   "metadata": {},
   "source": [
    "La distancia $f$ es conocida como *distancia focal* y $Z$ es la distancia entre cámara y objeto. Para simplificar los cálculos necesarios en la solución de el sistema coordenado de la anterior imagen, se reorganiza todo así:"
   ]
  },
  {
   "cell_type": "markdown",
   "metadata": {},
   "source": [
    "![Modelo usado para la solución algebraica. Nótese la diferenciación entre coordenadas $x$,$y$ (imagen) y $X$,$Y$,$Z$ (espacio)](img/1-fig2.png \"Modelo pinhole\")"
   ]
  },
  {
   "cell_type": "markdown",
   "metadata": {
    "collapsed": true
   },
   "source": [
    "El mapeo $f:\\ Q \\mapsto q$ corresponde a la siguiente función:"
   ]
  },
  {
   "cell_type": "markdown",
   "metadata": {},
   "source": [
    "$$f\\left(X,Y,Z\\right) = \\left(f_x\\left(\\frac{X}{Z}\\right)+c_x,\\ f_y\\left(\\frac{Y}{Z}\\right)+c_y\\right)$$"
   ]
  },
  {
   "cell_type": "markdown",
   "metadata": {},
   "source": [
    "En donde,\n",
    "\\begin{equation} \\label{eq:mapx}\n",
    "    x_{imagen} = f_x\\left(\\frac{X}{Z}\\right)+c_x\n",
    "\\end{equation}\n",
    "\\begin{equation} \\label{eq:mapy}\n",
    "    y_{imagen} = f_y\\left(\\frac{Y}{Z}\\right)+c_y\n",
    "\\end{equation}"
   ]
  },
  {
   "cell_type": "markdown",
   "metadata": {},
   "source": [
    "La figura ilustra lo que sería un modelo ideal, en que el plano de la imagen es paralelo al plano $\\hat{i}\\hat{j}$, y el eje $\\hat{k}$ interseca al plano de la imagen en su centro. En la construcción de una cámara, lograr una alineación perfecta es imposible. Por ello, se introducen las variables $c_x$ y $c_y$, las cuales representan desplazamientos respectivamente horizontal y vertical del eje óptico respecto al centro del plano. También se introducen dos distancias focales, $f_x$ y $f_y$, debido a que los sensores ópticos no poseen pixeles cuadrados, en realidad son rectangulares."
   ]
  },
  {
   "cell_type": "markdown",
   "metadata": {
    "collapsed": true
   },
   "source": [
    "Reorganizando las ecuaciones \\ref{eq:mapx} y \\ref{eq:mapy},"
   ]
  },
  {
   "cell_type": "markdown",
   "metadata": {},
   "source": [
    "$$x_{imagen} Z = f_x X + c_x Z$$\n",
    "$$y_{imagen} Z = f_y Y + c_y Z$$"
   ]
  },
  {
   "cell_type": "markdown",
   "metadata": {},
   "source": [
    "Es conveniente expresar estas ecuaciones de forma matricial usando coordenadas homogéneas, de la forma $q = MQ$, en donde"
   ]
  },
  {
   "cell_type": "markdown",
   "metadata": {
    "collapsed": true
   },
   "source": [
    "\\begin{center}\n",
    "$q =\n",
    "\\begin{bmatrix}\n",
    "    x \\\\[0.3em]\n",
    "    y \\\\[0.3em]\n",
    "    w\n",
    "\\end{bmatrix}$ , \n",
    "$M = \n",
    "\\begin{bmatrix}\n",
    "f_x &  0  & c_x  \\\\[0.3em]\n",
    " 0  & f_y & c_y  \\\\[0.3em]\n",
    " 0  &  0  &  1\n",
    "\\end{bmatrix}$ ,\n",
    "$Q =\n",
    "\\begin{bmatrix}\n",
    "    X \\\\[0.3em]\n",
    "    Y \\\\[0.3em]\n",
    "    Z\n",
    "\\end{bmatrix}$\n",
    "\\end{center}"
   ]
  },
  {
   "cell_type": "markdown",
   "metadata": {
    "collapsed": true
   },
   "source": [
    "### Distorsión de los lentes"
   ]
  },
  {
   "cell_type": "markdown",
   "metadata": {},
   "source": [
    "Varios supuestos deben olvidarse, y reemplazarse por modelos, para poder llegar a una representación más precisa y generalizada. No se consideró previamente, pero los sensores ópticos de una cámara (CCDs, o dispositivos de carga acoplada, son los más ampliamente usados) poseen una alta integración en una área muy reducida, "
   ]
  }
 ],
 "metadata": {
  "kernelspec": {
   "display_name": "Python 2",
   "language": "python",
   "name": "python2"
  },
  "language_info": {
   "codemirror_mode": {
    "name": "ipython",
    "version": 2
   },
   "file_extension": ".py",
   "mimetype": "text/x-python",
   "name": "python",
   "nbconvert_exporter": "python",
   "pygments_lexer": "ipython2",
   "version": "2.7.11"
  }
 },
 "nbformat": 4,
 "nbformat_minor": 0
}
