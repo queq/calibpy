{
 "cells": [
  {
   "cell_type": "markdown",
   "metadata": {},
   "source": [
    "# Introducción"
   ]
  },
  {
   "cell_type": "markdown",
   "metadata": {},
   "source": [
    "Todo sistema en algún grado inteligente depende absolutamente de la realimentación que recibe de su entorno. Es decir, el funcionamiento correcto o incorrecto de los sensores que posea es crucial para su eficaz funcionamiento. Luego, es preciso calibrar aquellos sensores para conocer su comportamiento bajo distintas condiciones ambientales, y así obrar adecuadamente a la hora de diseñar el sistema que realizamos. Desafortunadamente, en el caso de los sensores ópticos (cámaras) ocurre que es complejo determinar de forma directa las variables de interés en la calibración (no son usualmente suministradas por el fabricante, adicionalmente, medirlas experimentalmente no es una tarea fácil). Sin embargo, usando modelos geométricos y matemáticos existentes, es posible obtener los parámetros de calibración de una cámara de forma indirecta. Este documento pretende ilustrar el modelo más sencillo que se concibe de una cámara, y luego demostrar el proceso de calbración usando la librería [OpenCV](http://opencv.org) (cuyas funciones se basan en el modelo mencionado)."
   ]
  },
  {
   "cell_type": "markdown",
   "metadata": {},
   "source": [
    "## El modelo *pinhole* **[1]**"
   ]
  },
  {
   "cell_type": "markdown",
   "metadata": {
    "collapsed": true
   },
   "source": [
    "Este modelo de cámara consiste en un plano con una apertura puntual en su centro, sobre la que sólo puede pasar un rayo de luz. De esta manera, sólo un rayo que parta de algún punto específico del espacio puede entrar. Paralelo a este plano, existe otro plano, que es el que capturará los rayos proyectados, formándose así una imagen."
   ]
  },
  {
   "cell_type": "markdown",
   "metadata": {},
   "source": [
    "![Modelo pinhole: los rayos proyectados a través de la apertura forman una imagen.](img/1-fig1.png \"Modelo pinhole\")"
   ]
  },
  {
   "cell_type": "markdown",
   "metadata": {},
   "source": [
    "La distancia $f$ es conocida como *distancia focal* y $Z$ es la distancia entre cámara y objeto. Para simplificar los cálculos necesarios en la solución de el sistema coordenado de la anterior imagen, se reorganiza todo así:"
   ]
  },
  {
   "cell_type": "markdown",
   "metadata": {},
   "source": [
    "![Forma equivalente al modelo, la cual es usada para solucionarlo. Nótese la diferenciación entre coordenadas $x$,$y$ (imagen) y $X$,$Y$,$Z$ (espacio)](img/1-fig2.png \"Modelo pinhole\")"
   ]
  },
  {
   "cell_type": "code",
   "execution_count": null,
   "metadata": {
    "collapsed": true
   },
   "outputs": [],
   "source": []
  }
 ],
 "metadata": {
  "kernelspec": {
   "display_name": "Python 2",
   "language": "python",
   "name": "python2"
  },
  "language_info": {
   "codemirror_mode": {
    "name": "ipython",
    "version": 2
   },
   "file_extension": ".py",
   "mimetype": "text/x-python",
   "name": "python",
   "nbconvert_exporter": "python",
   "pygments_lexer": "ipython2",
   "version": "2.7.11"
  }
 },
 "nbformat": 4,
 "nbformat_minor": 0
}
